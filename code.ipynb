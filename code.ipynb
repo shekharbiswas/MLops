{
 "cells": [
  {
   "cell_type": "code",
   "execution_count": 2,
   "metadata": {},
   "outputs": [
    {
     "name": "stderr",
     "output_type": "stream",
     "text": [
      "c:\\Users\\SHEKHAR\\anaconda3\\lib\\site-packages\\numpy\\_distributor_init.py:30: UserWarning: loaded more than 1 DLL from .libs:\n",
      "c:\\Users\\SHEKHAR\\anaconda3\\lib\\site-packages\\numpy\\.libs\\libopenblas.FB5AE2TYXYH2IJRDKGDGQ3XBKLKTF43H.gfortran-win_amd64.dll\n",
      "c:\\Users\\SHEKHAR\\anaconda3\\lib\\site-packages\\numpy\\.libs\\libopenblas64__v0.3.21-gcc_10_3_0.dll\n",
      "  warnings.warn(\"loaded more than 1 DLL from .libs:\"\n"
     ]
    }
   ],
   "source": [
    "import pandas as pd\n",
    "\n",
    "df = pd.read_csv(\"rawdata_new.csv\")\n",
    "\n",
    "all_features = df.columns\n",
    "\n",
    "# Let's drop some features\n",
    "names = [feat for feat in all_features if \"net_name\" in feat] # excluded for privacy reasons\n",
    "useless = [\"info_gew\",\"info_resul\",\"interviewtime\",\"id\",\"date\"] # features that we expect are uninformative\n",
    "drop_list = names + useless \n",
    "\n",
    "# Remove the questionnaire about agricultural practices until I can better understand it\n",
    "practice_list = [\"legum\",\"conc\",\"add\",\"lact\",\"breed\",\"covman\",\"comp\",\"drag\",\"cov\",\"plow\",\"solar\",\"biog\",\"ecodr\"]\n",
    "for feat in all_features:\n",
    "    if any(x in feat for x in practice_list):\n",
    "        drop_list.append(feat)\n",
    "\n",
    "\n",
    "df = df.drop(columns=drop_list)\n",
    "\n",
    "# Convert non-numeric features to numeric\n",
    "non_numeric = list(df.select_dtypes(include=['O']).columns)\n",
    "for col in non_numeric:\n",
    "    codes,uniques=pd.factorize(df[col])\n",
    "    df[col] = codes\n",
    "\n",
    "df.to_csv(\"data_processed.csv\")"
   ]
  },
  {
   "cell_type": "code",
   "execution_count": 3,
   "metadata": {},
   "outputs": [
    {
     "data": {
      "image/png": "[encoded data removed]",
      "text/plain": [
       "<Figure size 640x480 with 1 Axes>"
      ]
     },
     "metadata": {},
     "output_type": "display_data"
    }
   ],
   "source": [
    "import pandas as pd \n",
    "import numpy as np\n",
    "from sklearn.linear_model import LogisticRegression\n",
    "from sklearn import preprocessing\n",
    "from sklearn.model_selection import cross_val_predict\n",
    "from sklearn.metrics import confusion_matrix\n",
    "from sklearn.metrics import roc_curve\n",
    "from sklearn.model_selection import train_test_split\n",
    "import json\n",
    "import seaborn as sns\n",
    "import matplotlib.pyplot as plt\n",
    "from sklearn.impute import SimpleImputer\n",
    "\n",
    "df = pd.read_csv(\"data_processed.csv\")\n",
    "\n",
    "#### Get features ready to model! \n",
    "y = df.pop(\"cons_general\").to_numpy()\n",
    "y[y< 4] = 0\n",
    "y[y>= 4] = 1\n",
    "\n",
    "X = df.to_numpy()\n",
    "X = preprocessing.scale(X) # Is standard\n",
    "# Impute NaNs\n",
    "\n",
    "imp = SimpleImputer(missing_values=np.nan, strategy='mean')\n",
    "imp.fit(X)\n",
    "X = imp.transform(X)\n",
    "\n",
    "\n",
    "# Linear model\n",
    "clf = LogisticRegression()\n",
    "yhat = cross_val_predict(clf, X, y, cv=5)\n",
    "\n",
    "acc = np.mean(yhat==y)\n",
    "tn, fp, fn, tp = confusion_matrix(y, yhat).ravel()\n",
    "specificity = tn / (tn+fp)\n",
    "sensitivity = tp / (tp + fn)\n",
    "\n",
    "# Now print to file\n",
    "with open(\"metrics.json\", 'w') as outfile:\n",
    "        json.dump({ \"accuracy\": acc, \"specificity\": specificity, \"sensitivity\":sensitivity}, outfile)\n",
    "\n",
    "# Let's visualize within several slices of the dataset\n",
    "score = yhat == y\n",
    "score_int = [int(s) for s in score]\n",
    "df['pred_accuracy'] = score_int\n",
    "\n",
    "# Bar plot by region\n",
    "\n",
    "sns.set_color_codes(\"dark\")\n",
    "ax = sns.barplot(x=\"region\", y=\"pred_accuracy\", data=df, palette = \"Greens_d\")\n",
    "ax.set(xlabel=\"Region\", ylabel = \"Model accuracy\")\n",
    "plt.savefig(\"by_region.png\",dpi=80)"
   ]
  },
  {
   "cell_type": "code",
   "execution_count": null,
   "metadata": {},
   "outputs": [],
   "source": []
  }
 ],
 "metadata": {
  "kernelspec": {
   "display_name": "base",
   "language": "python",
   "name": "python3"
  },
  "language_info": {
   "codemirror_mode": {
    "name": "ipython",
    "version": 3
   },
   "file_extension": ".py",
   "mimetype": "text/x-python",
   "name": "python",
   "nbconvert_exporter": "python",
   "pygments_lexer": "ipython3",
   "version": "3.9.17"
  }
 },
 "nbformat": 4,
 "nbformat_minor": 2
}
